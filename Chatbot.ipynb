{
 "cells": [
  {
   "cell_type": "markdown",
   "metadata": {},
   "source": [
    "# Music Genre Classification ChatBot\n",
    "\n",
    "### Importing Libraries for ChatBot"
   ]
  },
  {
   "cell_type": "code",
   "execution_count": 2,
   "metadata": {},
   "outputs": [
    {
     "name": "stdout",
     "output_type": "stream",
     "text": [
      "curses is not supported on this machine (please install/reinstall curses for an optimal experience)\n",
      "WARNING:tensorflow:From C:\\Users\\Rishit Jain\\anaconda3\\anaconda\\lib\\site-packages\\tflearn\\helpers\\summarizer.py:9: The name tf.summary.merge is deprecated. Please use tf.compat.v1.summary.merge instead.\n",
      "\n",
      "WARNING:tensorflow:From C:\\Users\\Rishit Jain\\anaconda3\\anaconda\\lib\\site-packages\\tflearn\\helpers\\trainer.py:25: The name tf.summary.FileWriter is deprecated. Please use tf.compat.v1.summary.FileWriter instead.\n",
      "\n",
      "WARNING:tensorflow:From C:\\Users\\Rishit Jain\\anaconda3\\anaconda\\lib\\site-packages\\tflearn\\collections.py:13: The name tf.GraphKeys is deprecated. Please use tf.compat.v1.GraphKeys instead.\n",
      "\n",
      "WARNING:tensorflow:From C:\\Users\\Rishit Jain\\anaconda3\\anaconda\\lib\\site-packages\\tflearn\\config.py:123: The name tf.get_collection is deprecated. Please use tf.compat.v1.get_collection instead.\n",
      "\n",
      "WARNING:tensorflow:From C:\\Users\\Rishit Jain\\anaconda3\\anaconda\\lib\\site-packages\\tflearn\\config.py:129: The name tf.add_to_collection is deprecated. Please use tf.compat.v1.add_to_collection instead.\n",
      "\n",
      "WARNING:tensorflow:From C:\\Users\\Rishit Jain\\anaconda3\\anaconda\\lib\\site-packages\\tflearn\\config.py:131: The name tf.assign is deprecated. Please use tf.compat.v1.assign instead.\n",
      "\n",
      "WARNING:tensorflow:From C:\\Users\\Rishit Jain\\anaconda3\\anaconda\\lib\\site-packages\\tensorflow_core\\python\\compat\\v2_compat.py:68: disable_resource_variables (from tensorflow.python.ops.variable_scope) is deprecated and will be removed in a future version.\n",
      "Instructions for updating:\n",
      "non-resource variables are not supported in the long term\n"
     ]
    },
    {
     "name": "stderr",
     "output_type": "stream",
     "text": [
      "Using TensorFlow backend.\n"
     ]
    }
   ],
   "source": [
    "import nltk\n",
    "import numpy as np\n",
    "import tflearn\n",
    "import tensorflow.compat.v1 as tf \n",
    "tf.disable_v2_behavior()\n",
    "import random\n",
    "import json\n",
    "import pickle\n",
    "from tkinter import *\n",
    "import pyttsx3 as pp\n",
    "from keras.models import load_model\n",
    "import warnings\n",
    "warnings.filterwarnings('ignore')"
   ]
  },
  {
   "cell_type": "markdown",
   "metadata": {},
   "source": [
    "### Importing Libraries for Classification Model"
   ]
  },
  {
   "cell_type": "code",
   "execution_count": 3,
   "metadata": {},
   "outputs": [],
   "source": [
    "# feature extractoring and preprocessing data\n",
    "import librosa\n",
    "import pandas as pd\n",
    "import numpy as np\n",
    "import matplotlib.pyplot as plt\n",
    "%matplotlib inline\n",
    "import os\n",
    "from PIL import Image\n",
    "import pathlib\n",
    "import csv\n",
    "from sklearn.metrics import mean_squared_error\n",
    "from math import sqrt\n",
    "\n",
    "# Preprocessing\n",
    "from sklearn.model_selection import train_test_split\n",
    "from sklearn.preprocessing import LabelEncoder, StandardScaler\n",
    "\n",
    "#Keras\n",
    "import keras\n",
    "\n",
    "import warnings\n",
    "warnings.filterwarnings('ignore')"
   ]
  },
  {
   "cell_type": "markdown",
   "metadata": {},
   "source": [
    "#### Extracting music and features\n",
    "\n",
    "##### Dataset\n",
    "\n",
    "We use GTZAN genre collection dataset for classification. \n",
    "\n",
    "The dataset consists of 10 genres i.e\n",
    " * Blues\n",
    " * Classical\n",
    " * Country\n",
    " * Disco\n",
    " * Hiphop\n",
    " * Jazz\n",
    " * Metal\n",
    " * Pop\n",
    " * Reggae\n",
    " * Rock\n",
    " \n",
    "Each genre contains 100 songs. Total dataset: 1000 songs"
   ]
  },
  {
   "cell_type": "markdown",
   "metadata": {},
   "source": [
    "### Extracting the Spectrogram for every Audio\n"
   ]
  },
  {
   "cell_type": "code",
   "execution_count": 3,
   "metadata": {},
   "outputs": [
    {
     "data": {
      "text/plain": [
       "<Figure size 720x720 with 0 Axes>"
      ]
     },
     "metadata": {},
     "output_type": "display_data"
    }
   ],
   "source": [
    "cmap = plt.get_cmap('inferno')\n",
    "\n",
    "plt.figure(figsize=(10,10))\n",
    "genres = 'blues classical country disco hiphop jazz metal pop reggae rock'.split()\n",
    "for g in genres:\n",
    "    pathlib.Path(f'img_data/{g}').mkdir(parents=True, exist_ok=True)     \n",
    "    for filename in os.listdir(f'C:/Users/Rishit Jain/genres/{g}'):\n",
    "        songname = f'C:/Users/Rishit Jain/genres/{g}/{filename}'\n",
    "        y, sr = librosa.load(songname, mono=True, duration=5)\n",
    "        plt.specgram(y, NFFT=2048, Fs=2, Fc=0, noverlap=128, cmap=cmap, sides='default', mode='default', scale='dB');\n",
    "        plt.axis('off');\n",
    "        plt.savefig(f'img_data/{g}/{filename[:-3].replace(\".\", \"\")}.png')\n",
    "        plt.clf()\n",
    " "
   ]
  },
  {
   "cell_type": "markdown",
   "metadata": {},
   "source": [
    "All the audio files get converted into their respective spectrograms. We can now easily extract the features from them."
   ]
  },
  {
   "cell_type": "markdown",
   "metadata": {},
   "source": [
    "#### Extracting features from Spectrogram\n",
    "\n",
    "\n",
    "We will extract\n",
    "\n",
    "* Mel-frequency cepstral coefficients (MFCC)(20 in number)\n",
    "* Spectral Centroid,\n",
    "* Zero Crossing Rate\n",
    "* Chroma Frequencies\n",
    "* Spectral Roll-off."
   ]
  },
  {
   "cell_type": "code",
   "execution_count": 4,
   "metadata": {},
   "outputs": [],
   "source": [
    "header = 'filename chroma_stft spectral_centroid spectral_bandwidth rolloff zero_crossing_rate'\n",
    "for i in range(1, 21):\n",
    "    header += f' mfcc{i}'\n",
    "header += ' label'\n",
    "header = header.split()"
   ]
  },
  {
   "cell_type": "markdown",
   "metadata": {},
   "source": [
    "#### Writing data to csv file\n",
    "\n",
    "We write the data to a csv file "
   ]
  },
  {
   "cell_type": "code",
   "execution_count": 5,
   "metadata": {},
   "outputs": [],
   "source": [
    "file = open('GenreData.csv', 'w', newline='')\n",
    "with file:\n",
    "    writer = csv.writer(file)\n",
    "    writer.writerow(header)\n",
    "genres = 'blues classical country disco hiphop jazz metal pop reggae rock'.split()\n",
    "for g in genres:\n",
    "    for filename in os.listdir(f'C:/Users/Rishit Jain/genres/{g}'):\n",
    "        songname = f'C:/Users/Rishit Jain/genres/{g}/{filename}'\n",
    "        y, sr = librosa.load(songname, mono=True, duration=30)\n",
    "        chroma_stft = librosa.feature.chroma_stft(y=y, sr=sr)\n",
    "        #rsme= sqrt(mean_squared_error(y,sr))\n",
    "        spec_cent = librosa.feature.spectral_centroid(y=y, sr=sr)\n",
    "        spec_bw = librosa.feature.spectral_bandwidth(y=y, sr=sr)\n",
    "        rolloff = librosa.feature.spectral_rolloff(y=y, sr=sr)\n",
    "        zcr = librosa.feature.zero_crossing_rate(y)\n",
    "        mfcc = librosa.feature.mfcc(y=y, sr=sr)\n",
    "        to_append = f'{filename} {np.mean(chroma_stft)} {np.mean(spec_cent)} {np.mean(spec_bw)} {np.mean(rolloff)} {np.mean(zcr)}'    \n",
    "        for e in mfcc:\n",
    "            to_append += f' {np.mean(e)}'\n",
    "        to_append += f' {g}'\n",
    "        file = open('GenreData.csv', 'a', newline='')\n",
    "        with file:\n",
    "            writer = csv.writer(file)\n",
    "            writer.writerow(to_append.split())"
   ]
  },
  {
   "cell_type": "markdown",
   "metadata": {},
   "source": [
    "The data has been extracted into a data.csv file."
   ]
  },
  {
   "cell_type": "markdown",
   "metadata": {},
   "source": [
    "#### Analysing the Data in Pandas"
   ]
  },
  {
   "cell_type": "code",
   "execution_count": 6,
   "metadata": {},
   "outputs": [
    {
     "data": {
      "text/html": [
       "<div>\n",
       "<style scoped>\n",
       "    .dataframe tbody tr th:only-of-type {\n",
       "        vertical-align: middle;\n",
       "    }\n",
       "\n",
       "    .dataframe tbody tr th {\n",
       "        vertical-align: top;\n",
       "    }\n",
       "\n",
       "    .dataframe thead th {\n",
       "        text-align: right;\n",
       "    }\n",
       "</style>\n",
       "<table border=\"1\" class=\"dataframe\">\n",
       "  <thead>\n",
       "    <tr style=\"text-align: right;\">\n",
       "      <th></th>\n",
       "      <th>filename</th>\n",
       "      <th>chroma_stft</th>\n",
       "      <th>spectral_centroid</th>\n",
       "      <th>spectral_bandwidth</th>\n",
       "      <th>rolloff</th>\n",
       "      <th>zero_crossing_rate</th>\n",
       "      <th>mfcc1</th>\n",
       "      <th>mfcc2</th>\n",
       "      <th>mfcc3</th>\n",
       "      <th>mfcc4</th>\n",
       "      <th>...</th>\n",
       "      <th>mfcc12</th>\n",
       "      <th>mfcc13</th>\n",
       "      <th>mfcc14</th>\n",
       "      <th>mfcc15</th>\n",
       "      <th>mfcc16</th>\n",
       "      <th>mfcc17</th>\n",
       "      <th>mfcc18</th>\n",
       "      <th>mfcc19</th>\n",
       "      <th>mfcc20</th>\n",
       "      <th>label</th>\n",
       "    </tr>\n",
       "  </thead>\n",
       "  <tbody>\n",
       "    <tr>\n",
       "      <th>995</th>\n",
       "      <td>rock.00095.au</td>\n",
       "      <td>0.351991</td>\n",
       "      <td>2008.581132</td>\n",
       "      <td>2106.617024</td>\n",
       "      <td>4254.215942</td>\n",
       "      <td>0.089267</td>\n",
       "      <td>-153.632309</td>\n",
       "      <td>109.857262</td>\n",
       "      <td>-23.085709</td>\n",
       "      <td>59.040676</td>\n",
       "      <td>...</td>\n",
       "      <td>12.350817</td>\n",
       "      <td>-12.306271</td>\n",
       "      <td>5.780973</td>\n",
       "      <td>-10.279924</td>\n",
       "      <td>1.791489</td>\n",
       "      <td>-13.304210</td>\n",
       "      <td>2.473193</td>\n",
       "      <td>-6.717574</td>\n",
       "      <td>-1.189238</td>\n",
       "      <td>rock</td>\n",
       "    </tr>\n",
       "    <tr>\n",
       "      <th>996</th>\n",
       "      <td>rock.00096.au</td>\n",
       "      <td>0.398653</td>\n",
       "      <td>2006.051164</td>\n",
       "      <td>2068.327905</td>\n",
       "      <td>4147.374921</td>\n",
       "      <td>0.097659</td>\n",
       "      <td>-142.424210</td>\n",
       "      <td>116.219780</td>\n",
       "      <td>-32.177074</td>\n",
       "      <td>49.122974</td>\n",
       "      <td>...</td>\n",
       "      <td>14.065347</td>\n",
       "      <td>-16.394691</td>\n",
       "      <td>4.152589</td>\n",
       "      <td>-4.350760</td>\n",
       "      <td>3.736455</td>\n",
       "      <td>-10.845638</td>\n",
       "      <td>1.875218</td>\n",
       "      <td>-7.459579</td>\n",
       "      <td>-2.802677</td>\n",
       "      <td>rock</td>\n",
       "    </tr>\n",
       "    <tr>\n",
       "      <th>997</th>\n",
       "      <td>rock.00097.au</td>\n",
       "      <td>0.432103</td>\n",
       "      <td>2077.190361</td>\n",
       "      <td>1926.989678</td>\n",
       "      <td>4030.767293</td>\n",
       "      <td>0.121824</td>\n",
       "      <td>-125.031326</td>\n",
       "      <td>115.194977</td>\n",
       "      <td>-47.993507</td>\n",
       "      <td>52.834534</td>\n",
       "      <td>...</td>\n",
       "      <td>10.481962</td>\n",
       "      <td>-17.951916</td>\n",
       "      <td>1.211113</td>\n",
       "      <td>-11.534864</td>\n",
       "      <td>1.844774</td>\n",
       "      <td>-12.847901</td>\n",
       "      <td>3.447425</td>\n",
       "      <td>-12.594178</td>\n",
       "      <td>-2.107002</td>\n",
       "      <td>rock</td>\n",
       "    </tr>\n",
       "    <tr>\n",
       "      <th>998</th>\n",
       "      <td>rock.00098.au</td>\n",
       "      <td>0.362349</td>\n",
       "      <td>1398.672358</td>\n",
       "      <td>1818.148469</td>\n",
       "      <td>3014.740104</td>\n",
       "      <td>0.048731</td>\n",
       "      <td>-224.972305</td>\n",
       "      <td>123.656891</td>\n",
       "      <td>-9.754534</td>\n",
       "      <td>56.595062</td>\n",
       "      <td>...</td>\n",
       "      <td>7.683082</td>\n",
       "      <td>-10.071786</td>\n",
       "      <td>-0.255098</td>\n",
       "      <td>-5.276486</td>\n",
       "      <td>-2.816288</td>\n",
       "      <td>-4.416438</td>\n",
       "      <td>1.558265</td>\n",
       "      <td>-5.043121</td>\n",
       "      <td>-3.585596</td>\n",
       "      <td>rock</td>\n",
       "    </tr>\n",
       "    <tr>\n",
       "      <th>999</th>\n",
       "      <td>rock.00099.au</td>\n",
       "      <td>0.358195</td>\n",
       "      <td>1609.442919</td>\n",
       "      <td>1797.065098</td>\n",
       "      <td>3246.280370</td>\n",
       "      <td>0.076290</td>\n",
       "      <td>-235.189331</td>\n",
       "      <td>123.888542</td>\n",
       "      <td>-22.536184</td>\n",
       "      <td>52.915520</td>\n",
       "      <td>...</td>\n",
       "      <td>10.066769</td>\n",
       "      <td>-15.019588</td>\n",
       "      <td>3.110468</td>\n",
       "      <td>-7.127754</td>\n",
       "      <td>1.784515</td>\n",
       "      <td>-7.070405</td>\n",
       "      <td>0.023643</td>\n",
       "      <td>-2.022034</td>\n",
       "      <td>1.158525</td>\n",
       "      <td>rock</td>\n",
       "    </tr>\n",
       "  </tbody>\n",
       "</table>\n",
       "<p>5 rows × 27 columns</p>\n",
       "</div>"
      ],
      "text/plain": [
       "          filename  chroma_stft  spectral_centroid  spectral_bandwidth  \\\n",
       "995  rock.00095.au     0.351991        2008.581132         2106.617024   \n",
       "996  rock.00096.au     0.398653        2006.051164         2068.327905   \n",
       "997  rock.00097.au     0.432103        2077.190361         1926.989678   \n",
       "998  rock.00098.au     0.362349        1398.672358         1818.148469   \n",
       "999  rock.00099.au     0.358195        1609.442919         1797.065098   \n",
       "\n",
       "         rolloff  zero_crossing_rate       mfcc1       mfcc2      mfcc3  \\\n",
       "995  4254.215942            0.089267 -153.632309  109.857262 -23.085709   \n",
       "996  4147.374921            0.097659 -142.424210  116.219780 -32.177074   \n",
       "997  4030.767293            0.121824 -125.031326  115.194977 -47.993507   \n",
       "998  3014.740104            0.048731 -224.972305  123.656891  -9.754534   \n",
       "999  3246.280370            0.076290 -235.189331  123.888542 -22.536184   \n",
       "\n",
       "         mfcc4  ...     mfcc12     mfcc13    mfcc14     mfcc15    mfcc16  \\\n",
       "995  59.040676  ...  12.350817 -12.306271  5.780973 -10.279924  1.791489   \n",
       "996  49.122974  ...  14.065347 -16.394691  4.152589  -4.350760  3.736455   \n",
       "997  52.834534  ...  10.481962 -17.951916  1.211113 -11.534864  1.844774   \n",
       "998  56.595062  ...   7.683082 -10.071786 -0.255098  -5.276486 -2.816288   \n",
       "999  52.915520  ...  10.066769 -15.019588  3.110468  -7.127754  1.784515   \n",
       "\n",
       "        mfcc17    mfcc18     mfcc19    mfcc20  label  \n",
       "995 -13.304210  2.473193  -6.717574 -1.189238   rock  \n",
       "996 -10.845638  1.875218  -7.459579 -2.802677   rock  \n",
       "997 -12.847901  3.447425 -12.594178 -2.107002   rock  \n",
       "998  -4.416438  1.558265  -5.043121 -3.585596   rock  \n",
       "999  -7.070405  0.023643  -2.022034  1.158525   rock  \n",
       "\n",
       "[5 rows x 27 columns]"
      ]
     },
     "execution_count": 6,
     "metadata": {},
     "output_type": "execute_result"
    }
   ],
   "source": [
    "data = pd.read_csv('GenreData.csv')\n",
    "data.tail()"
   ]
  },
  {
   "cell_type": "code",
   "execution_count": 7,
   "metadata": {},
   "outputs": [
    {
     "data": {
      "text/plain": [
       "(1000, 27)"
      ]
     },
     "execution_count": 7,
     "metadata": {},
     "output_type": "execute_result"
    }
   ],
   "source": [
    "data.shape"
   ]
  },
  {
   "cell_type": "code",
   "execution_count": 8,
   "metadata": {},
   "outputs": [],
   "source": [
    "# Dropping unneccesary columns\n",
    "data = data.drop(['filename'],axis=1)"
   ]
  },
  {
   "cell_type": "markdown",
   "metadata": {},
   "source": [
    "#### Encoding the Labels"
   ]
  },
  {
   "cell_type": "code",
   "execution_count": 9,
   "metadata": {},
   "outputs": [
    {
     "name": "stdout",
     "output_type": "stream",
     "text": [
      "0      blues\n",
      "1      blues\n",
      "2      blues\n",
      "3      blues\n",
      "4      blues\n",
      "       ...  \n",
      "995     rock\n",
      "996     rock\n",
      "997     rock\n",
      "998     rock\n",
      "999     rock\n",
      "Name: label, Length: 1000, dtype: object\n"
     ]
    }
   ],
   "source": [
    "genre_list = data.iloc[:, -1]\n",
    "encoder = LabelEncoder()\n",
    "y = encoder.fit_transform(genre_list)\n",
    "print(genre_list)"
   ]
  },
  {
   "cell_type": "markdown",
   "metadata": {},
   "source": [
    "#### Scaling the Feature columns"
   ]
  },
  {
   "cell_type": "code",
   "execution_count": 10,
   "metadata": {},
   "outputs": [
    {
     "name": "stdout",
     "output_type": "stream",
     "text": [
      "[[-0.35174835 -0.58330334 -0.45603703 ... -0.23719143  0.00761132\n",
      "   0.60349827]\n",
      " [-0.46146555 -0.93906628 -0.38766764 ... -0.05518971  0.54382353\n",
      "   0.42403527]\n",
      " [-0.18448354 -0.90741936 -0.94167974 ... -0.60070696 -0.29428465\n",
      "  -0.29511276]\n",
      " ...\n",
      " [ 0.6543177  -0.17418012 -0.59985796 ...  0.76028073 -2.73474441\n",
      "  -0.2638744 ]\n",
      " [-0.19983743 -1.12235633 -0.80675114 ...  0.27176634 -0.72311177\n",
      "  -0.64936233]\n",
      " [-0.25070237 -0.82782084 -0.84682792 ... -0.1250688   0.08171805\n",
      "   0.58748954]]\n"
     ]
    }
   ],
   "source": [
    "scaler = StandardScaler()\n",
    "X = scaler.fit_transform(np.array(data.iloc[:, :-1], dtype = float))\n",
    "print(X)"
   ]
  },
  {
   "cell_type": "markdown",
   "metadata": {},
   "source": [
    "#### Dividing data into Training and Testing set"
   ]
  },
  {
   "cell_type": "code",
   "execution_count": 11,
   "metadata": {},
   "outputs": [],
   "source": [
    "X_train, X_test, y_train, y_test = train_test_split(X, y, test_size=0.2)"
   ]
  },
  {
   "cell_type": "code",
   "execution_count": 12,
   "metadata": {},
   "outputs": [
    {
     "data": {
      "text/plain": [
       "800"
      ]
     },
     "execution_count": 12,
     "metadata": {},
     "output_type": "execute_result"
    }
   ],
   "source": [
    "len(y_train)"
   ]
  },
  {
   "cell_type": "code",
   "execution_count": 13,
   "metadata": {},
   "outputs": [
    {
     "data": {
      "text/plain": [
       "200"
      ]
     },
     "execution_count": 13,
     "metadata": {},
     "output_type": "execute_result"
    }
   ],
   "source": [
    "len(y_test)"
   ]
  },
  {
   "cell_type": "code",
   "execution_count": 14,
   "metadata": {},
   "outputs": [
    {
     "data": {
      "text/plain": [
       "array([ 0.71651714,  1.67577287,  1.57341453,  1.57596856,  1.48518779,\n",
       "        0.96649364, -1.40536966,  1.29600371, -0.70891668,  0.42449554,\n",
       "       -1.10608979,  1.21741403, -1.06756269,  1.21710291, -0.74845904,\n",
       "        0.43756459, -0.37823805,  0.01919977, -0.85902104,  0.61753051,\n",
       "       -0.75043172,  0.50043085, -0.96655677,  1.31697832,  0.77932944])"
      ]
     },
     "execution_count": 14,
     "metadata": {},
     "output_type": "execute_result"
    }
   ],
   "source": [
    "X_train[100]"
   ]
  },
  {
   "cell_type": "markdown",
   "metadata": {},
   "source": [
    "### Classification with Keras\n",
    "\n",
    "#### Building our Network"
   ]
  },
  {
   "cell_type": "code",
   "execution_count": 15,
   "metadata": {},
   "outputs": [
    {
     "name": "stdout",
     "output_type": "stream",
     "text": [
      "WARNING:tensorflow:From C:\\Users\\Rishit Jain\\anaconda3\\anaconda\\lib\\site-packages\\tensorflow_core\\python\\ops\\resource_variable_ops.py:1630: calling BaseResourceVariable.__init__ (from tensorflow.python.ops.resource_variable_ops) with constraint is deprecated and will be removed in a future version.\n",
      "Instructions for updating:\n",
      "If using Keras pass *_constraint arguments to layers.\n"
     ]
    }
   ],
   "source": [
    "from keras import models\n",
    "from keras import layers\n",
    "\n",
    "modelC = models.Sequential()\n",
    "modelC.add(layers.Dense(256, activation='relu', input_shape=(X_train.shape[1],)))\n",
    "modelC.add(layers.Dense(128, activation='relu'))\n",
    "modelC.add(layers.Dense(64, activation='relu'))\n",
    "modelC.add(layers.Dense(10, activation='softmax'))"
   ]
  },
  {
   "cell_type": "code",
   "execution_count": 16,
   "metadata": {},
   "outputs": [],
   "source": [
    "modelC.compile(optimizer='adam',\n",
    "              loss='sparse_categorical_crossentropy',\n",
    "              metrics=['accuracy'])"
   ]
  },
  {
   "cell_type": "code",
   "execution_count": 17,
   "metadata": {
    "scrolled": true
   },
   "outputs": [
    {
     "name": "stdout",
     "output_type": "stream",
     "text": [
      "WARNING:tensorflow:From C:\\Users\\Rishit Jain\\anaconda3\\anaconda\\lib\\site-packages\\keras\\backend\\tensorflow_backend.py:422: The name tf.global_variables is deprecated. Please use tf.compat.v1.global_variables instead.\n",
      "\n",
      "WARNING:tensorflow:From C:\\Users\\Rishit Jain\\anaconda3\\anaconda\\lib\\site-packages\\keras\\backend\\tensorflow_backend.py:431: The name tf.is_variable_initialized is deprecated. Please use tf.compat.v1.is_variable_initialized instead.\n",
      "\n",
      "WARNING:tensorflow:From C:\\Users\\Rishit Jain\\anaconda3\\anaconda\\lib\\site-packages\\keras\\backend\\tensorflow_backend.py:438: The name tf.variables_initializer is deprecated. Please use tf.compat.v1.variables_initializer instead.\n",
      "\n",
      "Epoch 1/25\n",
      "800/800 [==============================] - 0s 199us/step - loss: 1.8548 - accuracy: 0.3250\n",
      "Epoch 2/25\n",
      "800/800 [==============================] - 0s 56us/step - loss: 1.3382 - accuracy: 0.5138\n",
      "Epoch 3/25\n",
      "800/800 [==============================] - 0s 57us/step - loss: 1.1354 - accuracy: 0.5962\n",
      "Epoch 4/25\n",
      "800/800 [==============================] - 0s 52us/step - loss: 0.9762 - accuracy: 0.6625\n",
      "Epoch 5/25\n",
      "800/800 [==============================] - 0s 51us/step - loss: 0.8607 - accuracy: 0.6988\n",
      "Epoch 6/25\n",
      "800/800 [==============================] - 0s 51us/step - loss: 0.8126 - accuracy: 0.7063\n",
      "Epoch 7/25\n",
      "800/800 [==============================] - 0s 49us/step - loss: 0.7132 - accuracy: 0.7462\n",
      "Epoch 8/25\n",
      "800/800 [==============================] - 0s 49us/step - loss: 0.6561 - accuracy: 0.7700\n",
      "Epoch 9/25\n",
      "800/800 [==============================] - 0s 51us/step - loss: 0.5757 - accuracy: 0.8075\n",
      "Epoch 10/25\n",
      "800/800 [==============================] - 0s 47us/step - loss: 0.5061 - accuracy: 0.8400\n",
      "Epoch 11/25\n",
      "800/800 [==============================] - 0s 49us/step - loss: 0.4578 - accuracy: 0.8662\n",
      "Epoch 12/25\n",
      "800/800 [==============================] - 0s 49us/step - loss: 0.4145 - accuracy: 0.8662\n",
      "Epoch 13/25\n",
      "800/800 [==============================] - 0s 49us/step - loss: 0.3788 - accuracy: 0.8950\n",
      "Epoch 14/25\n",
      "800/800 [==============================] - 0s 54us/step - loss: 0.3453 - accuracy: 0.8988\n",
      "Epoch 15/25\n",
      "800/800 [==============================] - 0s 59us/step - loss: 0.3008 - accuracy: 0.9212\n",
      "Epoch 16/25\n",
      "800/800 [==============================] - 0s 49us/step - loss: 0.2722 - accuracy: 0.9250\n",
      "Epoch 17/25\n",
      "800/800 [==============================] - 0s 47us/step - loss: 0.2195 - accuracy: 0.9538\n",
      "Epoch 18/25\n",
      "800/800 [==============================] - 0s 50us/step - loss: 0.1996 - accuracy: 0.9475\n",
      "Epoch 19/25\n",
      "800/800 [==============================] - 0s 50us/step - loss: 0.1800 - accuracy: 0.9575\n",
      "Epoch 20/25\n",
      "800/800 [==============================] - 0s 49us/step - loss: 0.1576 - accuracy: 0.9663\n",
      "Epoch 21/25\n",
      "800/800 [==============================] - 0s 50us/step - loss: 0.1523 - accuracy: 0.9663\n",
      "Epoch 22/25\n",
      "800/800 [==============================] - 0s 49us/step - loss: 0.1169 - accuracy: 0.9775\n",
      "Epoch 23/25\n",
      "800/800 [==============================] - 0s 50us/step - loss: 0.1076 - accuracy: 0.9775\n",
      "Epoch 24/25\n",
      "800/800 [==============================] - 0s 50us/step - loss: 0.1099 - accuracy: 0.9712\n",
      "Epoch 25/25\n",
      "800/800 [==============================] - 0s 50us/step - loss: 0.0965 - accuracy: 0.9787\n"
     ]
    },
    {
     "data": {
      "image/png": "[encoded data removed]",
      "text/plain": [
       "<Figure size 288x288 with 1 Axes>"
      ]
     },
     "metadata": {
      "needs_background": "light"
     },
     "output_type": "display_data"
    },
    {
     "data": {
      "text/plain": [
       "<matplotlib.legend.Legend at 0x1a68999f908>"
      ]
     },
     "execution_count": 17,
     "metadata": {},
     "output_type": "execute_result"
    },
    {
     "data": {
      "image/png": "[encoded data removed]",
      "text/plain": [
       "<Figure size 288x288 with 1 Axes>"
      ]
     },
     "metadata": {
      "needs_background": "light"
     },
     "output_type": "display_data"
    }
   ],
   "source": [
    "history= modelC.fit(X_train,\n",
    "                    y_train,\n",
    "                    epochs=25,\n",
    "                    batch_size=16)\n",
    "plt.figure(figsize=(4,4))\n",
    "loss_train = history.history['loss']\n",
    "#loss_val = history.history['val_los']\n",
    "epochs = range(1,25)\n",
    "plt.plot(history.history['loss'])\n",
    "\n",
    "plt.title('Training  loss')\n",
    "plt.xlabel('Epochs')\n",
    "plt.ylabel('Loss')\n",
    "plt.legend(['loss'])\n",
    "plt.show()\n",
    "\n",
    "plt.figure(figsize=(4,4))\n",
    "plt.plot(history.history['accuracy'])\n",
    "plt.title('Training Accuracy')\n",
    "plt.xlabel('Epochs')\n",
    "plt.ylabel('Accuracy')\n",
    "plt.legend(['Accuracy'])"
   ]
  },
  {
   "cell_type": "code",
   "execution_count": 18,
   "metadata": {},
   "outputs": [
    {
     "name": "stdout",
     "output_type": "stream",
     "text": [
      "200/200 [==============================] - 0s 95us/step\n"
     ]
    }
   ],
   "source": [
    "test_loss, test_acc = modelC.evaluate(X_test,y_test)"
   ]
  },
  {
   "cell_type": "code",
   "execution_count": 19,
   "metadata": {},
   "outputs": [
    {
     "name": "stdout",
     "output_type": "stream",
     "text": [
      "test_acc:  0.6899999976158142\n"
     ]
    }
   ],
   "source": [
    "print('test_acc: ',test_acc)"
   ]
  },
  {
   "cell_type": "markdown",
   "metadata": {},
   "source": [
    "#### Validating the Model by using 200 files from the dataset"
   ]
  },
  {
   "cell_type": "code",
   "execution_count": 20,
   "metadata": {},
   "outputs": [],
   "source": [
    "x_val = X_train[:200]\n",
    "partial_x_train = X_train[200:]\n",
    "\n",
    "y_val = y_train[:200]\n",
    "partial_y_train = y_train[200:]"
   ]
  },
  {
   "cell_type": "code",
   "execution_count": 21,
   "metadata": {},
   "outputs": [
    {
     "name": "stdout",
     "output_type": "stream",
     "text": [
      "Train on 600 samples, validate on 200 samples\n",
      "Epoch 1/20\n",
      "600/600 [==============================] - 0s 273us/step - loss: 1.8748 - accuracy: 0.3267 - val_loss: 1.5752 - val_accuracy: 0.4650\n",
      "Epoch 2/20\n",
      "600/600 [==============================] - 0s 98us/step - loss: 1.3661 - accuracy: 0.4933 - val_loss: 1.2419 - val_accuracy: 0.5100\n",
      "Epoch 3/20\n",
      "600/600 [==============================] - 0s 91us/step - loss: 1.1253 - accuracy: 0.5967 - val_loss: 1.3445 - val_accuracy: 0.5300\n",
      "Epoch 4/20\n",
      "600/600 [==============================] - 0s 91us/step - loss: 1.0590 - accuracy: 0.6067 - val_loss: 1.1075 - val_accuracy: 0.5850\n",
      "Epoch 5/20\n",
      "600/600 [==============================] - 0s 88us/step - loss: 0.8724 - accuracy: 0.6917 - val_loss: 1.1759 - val_accuracy: 0.6100\n",
      "Epoch 6/20\n",
      "600/600 [==============================] - 0s 95us/step - loss: 0.7807 - accuracy: 0.7000 - val_loss: 1.1171 - val_accuracy: 0.6350\n",
      "Epoch 7/20\n",
      "600/600 [==============================] - 0s 90us/step - loss: 0.6893 - accuracy: 0.7633 - val_loss: 1.1924 - val_accuracy: 0.6550\n",
      "Epoch 8/20\n",
      "600/600 [==============================] - 0s 105us/step - loss: 0.6321 - accuracy: 0.7717 - val_loss: 1.1595 - val_accuracy: 0.6250\n",
      "Epoch 9/20\n",
      "600/600 [==============================] - 0s 111us/step - loss: 0.4975 - accuracy: 0.8317 - val_loss: 1.2327 - val_accuracy: 0.5900\n",
      "Epoch 10/20\n",
      "600/600 [==============================] - 0s 110us/step - loss: 0.4241 - accuracy: 0.8700 - val_loss: 1.0800 - val_accuracy: 0.6650\n",
      "Epoch 11/20\n",
      "600/600 [==============================] - 0s 90us/step - loss: 0.3548 - accuracy: 0.9000 - val_loss: 1.1443 - val_accuracy: 0.6550\n",
      "Epoch 12/20\n",
      "600/600 [==============================] - 0s 116us/step - loss: 0.3556 - accuracy: 0.8867 - val_loss: 1.1885 - val_accuracy: 0.6250\n",
      "Epoch 13/20\n",
      "600/600 [==============================] - 0s 115us/step - loss: 0.2470 - accuracy: 0.9317 - val_loss: 1.2882 - val_accuracy: 0.6400\n",
      "Epoch 14/20\n",
      "600/600 [==============================] - 0s 105us/step - loss: 0.2255 - accuracy: 0.9250 - val_loss: 1.2432 - val_accuracy: 0.6350\n",
      "Epoch 15/20\n",
      "600/600 [==============================] - 0s 85us/step - loss: 0.1769 - accuracy: 0.9450 - val_loss: 1.2986 - val_accuracy: 0.6500\n",
      "Epoch 16/20\n",
      "600/600 [==============================] - 0s 85us/step - loss: 0.1171 - accuracy: 0.9733 - val_loss: 1.4732 - val_accuracy: 0.6650\n",
      "Epoch 17/20\n",
      "600/600 [==============================] - 0s 85us/step - loss: 0.0935 - accuracy: 0.9817 - val_loss: 1.5515 - val_accuracy: 0.6250\n",
      "Epoch 18/20\n",
      "600/600 [==============================] - 0s 85us/step - loss: 0.0767 - accuracy: 0.9833 - val_loss: 1.5075 - val_accuracy: 0.6500\n",
      "Epoch 19/20\n",
      "600/600 [==============================] - 0s 86us/step - loss: 0.1252 - accuracy: 0.9700 - val_loss: 1.5750 - val_accuracy: 0.6350\n",
      "Epoch 20/20\n",
      "600/600 [==============================] - 0s 88us/step - loss: 0.0782 - accuracy: 0.9850 - val_loss: 1.5575 - val_accuracy: 0.6700\n",
      "200/200 [==============================] - 0s 25us/step\n"
     ]
    }
   ],
   "source": [
    "modelCt = models.Sequential()\n",
    "modelCt.add(layers.Dense(512, activation='relu', input_shape=(X_train.shape[1],)))\n",
    "modelCt.add(layers.Dense(256, activation='relu'))\n",
    "modelCt.add(layers.Dense(128, activation='relu'))\n",
    "modelCt.add(layers.Dense(64, activation='relu'))\n",
    "modelCt.add(layers.Dense(10, activation='softmax'))\n",
    "\n",
    "modelCt.compile(optimizer='adam',\n",
    "              loss='sparse_categorical_crossentropy',\n",
    "              metrics=['accuracy'])\n",
    "\n",
    "xyz = modelCt.fit(partial_x_train,\n",
    "          partial_y_train,\n",
    "          epochs=20,\n",
    "          batch_size=20,\n",
    "          validation_data=(x_val, y_val))\n",
    "results = modelCt.evaluate(X_test, y_test)\n",
    "modelCt.save(\"modelC.h5\")"
   ]
  },
  {
   "cell_type": "code",
   "execution_count": 22,
   "metadata": {},
   "outputs": [
    {
     "data": {
      "text/plain": [
       "<keras.engine.sequential.Sequential at 0x1a68aca3ac8>"
      ]
     },
     "execution_count": 22,
     "metadata": {},
     "output_type": "execute_result"
    }
   ],
   "source": [
    "modelCt = load_model(\"modelC.h5\") # Loading the model if it already exists\n",
    "modelCt"
   ]
  },
  {
   "cell_type": "code",
   "execution_count": 23,
   "metadata": {},
   "outputs": [
    {
     "data": {
      "image/png": "[encoded data removed]",
      "text/plain": [
       "<Figure size 864x432 with 1 Axes>"
      ]
     },
     "metadata": {
      "needs_background": "light"
     },
     "output_type": "display_data"
    }
   ],
   "source": [
    "plt.figure(figsize=(12,6))\n",
    "plt.plot(xyz.history['loss'])\n",
    "plt.plot(xyz.history['val_loss'])\n",
    "plt.plot(xyz.history['accuracy'])\n",
    "plt.plot(xyz.history['val_accuracy'])\n",
    "plt.title('VALIDATION PARAMETERS')\n",
    "plt.xlabel('Epochs')\n",
    "plt.ylabel('Loss')\n",
    "plt.legend(['loss','val_loss','accuracy','val_accuracy'])\n",
    "plt.show()\n"
   ]
  },
  {
   "cell_type": "code",
   "execution_count": 24,
   "metadata": {},
   "outputs": [
    {
     "data": {
      "text/plain": [
       "[1.4872745227813722, 0.6949999928474426]"
      ]
     },
     "execution_count": 24,
     "metadata": {},
     "output_type": "execute_result"
    }
   ],
   "source": [
    "results"
   ]
  },
  {
   "cell_type": "code",
   "execution_count": 25,
   "metadata": {},
   "outputs": [
    {
     "name": "stdout",
     "output_type": "stream",
     "text": [
      "200/200 [==============================] - 0s 200us/step\n",
      "test_acc:  0.6949999928474426\n"
     ]
    }
   ],
   "source": [
    "test_loss, test_acc = modelCt.evaluate(X_test,y_test)\n",
    "print('test_acc: ',test_acc)"
   ]
  },
  {
   "cell_type": "code",
   "execution_count": 26,
   "metadata": {},
   "outputs": [
    {
     "name": "stdout",
     "output_type": "stream",
     "text": [
      "0          blues\n",
      "1          blues\n",
      "2          blues\n",
      "3          blues\n",
      "4          blues\n",
      "         ...    \n",
      "195    classical\n",
      "196    classical\n",
      "197    classical\n",
      "198    classical\n",
      "199    classical\n",
      "Name: label, Length: 200, dtype: object\n"
     ]
    }
   ],
   "source": [
    "print(genre_list[0:200])"
   ]
  },
  {
   "cell_type": "markdown",
   "metadata": {},
   "source": [
    "### Defining and training the Model for the Chatbot"
   ]
  },
  {
   "cell_type": "code",
   "execution_count": 27,
   "metadata": {},
   "outputs": [],
   "source": [
    "from nltk.stem.lancaster import LancasterStemmer\n",
    "stemmer = LancasterStemmer()"
   ]
  },
  {
   "cell_type": "code",
   "execution_count": 5,
   "metadata": {
    "scrolled": true
   },
   "outputs": [
    {
     "name": "stdout",
     "output_type": "stream",
     "text": [
      "Training Step: 3999  | total loss: \u001b[1m\u001b[32m0.01274\u001b[0m\u001b[0m | time: 0.006s\n",
      "| Adam | epoch: 1000 | loss: 0.01274 - acc: 0.9999 -- iter: 24/26\n",
      "Training Step: 4000  | total loss: \u001b[1m\u001b[32m0.01242\u001b[0m\u001b[0m | time: 0.007s\n",
      "| Adam | epoch: 1000 | loss: 0.01242 - acc: 0.9999 -- iter: 26/26\n",
      "--\n",
      "INFO:tensorflow:C:\\Users\\Rishit Jain\\mymodel.tflearn is not in all_model_checkpoint_paths. Manually adding it.\n"
     ]
    }
   ],
   "source": [
    "# with open(\"chatbotintents.json\") as file:\n",
    "file = open(\"intents.json\")\n",
    "data = json.load(file)\n",
    "\n",
    "try:    \n",
    "    with open(\"data.pickle\", \"rb\") as f:   # reading in bytes\n",
    "        words, labels, training, output = pickle.load(f)\n",
    "except:\n",
    "    words = []\n",
    "    labels = []\n",
    "    docs_x = []\n",
    "    docs_y = []\n",
    "\n",
    "    for intent in data[\"intents\"]:\n",
    "        for pattern in intent[\"patterns\"]:\n",
    "            wrds = nltk.word_tokenize(pattern)\n",
    "            words.extend(wrds)\n",
    "            docs_x.append(wrds)\n",
    "            docs_y.append(intent[\"tag\"])\n",
    "\n",
    "            if intent[\"tag\"] not in labels:\n",
    "                labels.append(intent[\"tag\"])\n",
    "\n",
    "    words = [stemmer.stem(w.lower()) for w in words if w not in \"?\"]\n",
    "    words = sorted(list(set(words)))\n",
    "\n",
    "    labels = sorted(labels)\n",
    "\n",
    "    training = []\n",
    "    output = []\n",
    "\n",
    "    out_empty = [0 for _ in range(len(labels))]\n",
    "\n",
    "    # Applying one hot encoding\n",
    "\n",
    "    for x, doc in enumerate(docs_x):\n",
    "        bag = []\n",
    "\n",
    "        wrds = [stemmer.stem(w) for w in doc]\n",
    "\n",
    "        for w in words:\n",
    "            if w in wrds:\n",
    "                bag.append(1)\n",
    "            else:\n",
    "                bag.append(0)\n",
    "        output_row = out_empty[:]\n",
    "        output_row[labels.index(docs_y[x])] = 1\n",
    "\n",
    "        training.append(bag)\n",
    "        output.append(output_row)\n",
    "\n",
    "    training = np.array(training)\n",
    "    output = np.array(output)\n",
    "    \n",
    "    with open(\"data.pickle\", \"wb\") as f:  # writing in bytes\n",
    "        pickle.dump((words, labels, training, output), f)\n",
    "\n",
    "    \n",
    "tf.reset_default_graph()\n",
    "\n",
    "net = tflearn.input_data(shape=[None, len(training[0])])\n",
    "net = tflearn.fully_connected(net, 8)\n",
    "net = tflearn.fully_connected(net, 8)\n",
    "net = tflearn.fully_connected(net, len(output[0]), activation='softmax')\n",
    "net = tflearn.regression(net)\n",
    "\n",
    "# DNN - Deep Neural Network applied to the hidden layers to prepare the model.\n",
    "model = tflearn.DNN(net)\n",
    "model.fit(training, output, n_epoch = 1000, batch_size = 8, show_metric = True)\n",
    "model.save(\"mymodel.tflearn\")\n"
   ]
  },
  {
   "cell_type": "code",
   "execution_count": 29,
   "metadata": {},
   "outputs": [
    {
     "name": "stdout",
     "output_type": "stream",
     "text": [
      "INFO:tensorflow:Restoring parameters from C:\\Users\\Rishit Jain\\mymodel.tflearn\n"
     ]
    }
   ],
   "source": [
    "try: \n",
    "    model.load(\"mymodel.tflearn\") # Loading the model if it already exists\n",
    "except:\n",
    "    # Training the Model and then Saving it\n",
    "    model.fit(training, output, n_epoch = 20000, batch_size = 8, show_metric = True)\n",
    "    model.save(\"mymodel.tflearn\")"
   ]
  },
  {
   "cell_type": "markdown",
   "metadata": {},
   "source": [
    "### Building a Framework for the ChatBot"
   ]
  },
  {
   "cell_type": "code",
   "execution_count": 30,
   "metadata": {},
   "outputs": [],
   "source": [
    "# model.load(\"mymodel.tflearn\")\n",
    "\n",
    "# Defining the process which takes place on the user input\n",
    "\n",
    "def bag_of_words(s, words):\n",
    "    bag = [0 for _ in range(len(words))]\n",
    "    \n",
    "    s_words = nltk.word_tokenize(s)\n",
    "    s_words = [stemmer.stem(word.lower()) for word in s_words]\n",
    "    \n",
    "    for se in s_words:\n",
    "        for i, w in enumerate(words):\n",
    "            if w == se:\n",
    "                bag[i] = 1\n",
    "                \n",
    "    return np.array(bag) "
   ]
  },
  {
   "cell_type": "code",
   "execution_count": 31,
   "metadata": {},
   "outputs": [],
   "source": [
    "# Defining the Chatting Feature\n",
    "# Defining the Chatting Feature\n",
    "def chat():\n",
    "\n",
    "    while True: \n",
    "        inp = input(\"You: \")\n",
    "        if inp.lower() == \"quit\" or inp.lower() == \"exit\":\n",
    "            break\n",
    "        \n",
    "        # This will only return the probabilities assigned to each tag / perceptron\n",
    "        results = model.predict([bag_of_words(inp, words)])\n",
    "        # To get the actual message\n",
    "        results_index = np.argmax(results)\n",
    "        tag = labels[results_index]\n",
    "        \n",
    "        for tg in data[\"intents\"]:\n",
    "            if tg[\"tag\"] == tag:\n",
    "                responses = tg[\"responses\"]\n",
    "            elif inp == \"Please run the Genre Classifier\" or inp == \"genre classifier\" or inp == \"genre?\" or inp == \"Run the classifier please\": \n",
    "                modelCt = load_model(\"modelC.h5\")\n",
    "                test_loss, test_acc = modelCt.evaluate(X_test,y_test)\n",
    "                print('The Accuracy of the Classifier: ',test_acc)\n",
    "                print(genre_list[0:200])\n",
    "                break\n",
    "                \n",
    "        botAns = random.choice(responses)\n",
    "        print(botAns)\n",
    "    "
   ]
  },
  {
   "cell_type": "code",
   "execution_count": 39,
   "metadata": {},
   "outputs": [
    {
     "name": "stdout",
     "output_type": "stream",
     "text": [
      "You: Hi\n",
      "Good to see you again!\n",
      "You: Please run the Genre Classifier\n",
      "200/200 [==============================] - 0s 469us/step\n",
      "The Accuracy of the Classifier:  0.6949999928474426\n",
      "0          blues\n",
      "1          blues\n",
      "2          blues\n",
      "3          blues\n",
      "4          blues\n",
      "         ...    \n",
      "195    classical\n",
      "196    classical\n",
      "197    classical\n",
      "198    classical\n",
      "199    classical\n",
      "Name: label, Length: 200, dtype: object\n",
      "Good to see you again!\n",
      "You: What is your name?\n",
      "I'm G-Bot!\n",
      "You: quit\n"
     ]
    }
   ],
   "source": [
    "chat()"
   ]
  },
  {
   "cell_type": "code",
   "execution_count": null,
   "metadata": {},
   "outputs": [],
   "source": []
  }
 ],
 "metadata": {
  "kernelspec": {
   "display_name": "Python 3",
   "language": "python",
   "name": "python3"
  },
  "language_info": {
   "codemirror_mode": {
    "name": "ipython",
    "version": 3
   },
   "file_extension": ".py",
   "mimetype": "text/x-python",
   "name": "python",
   "nbconvert_exporter": "python",
   "pygments_lexer": "ipython3",
   "version": "3.7.6"
  }
 },
 "nbformat": 4,
 "nbformat_minor": 4
}
